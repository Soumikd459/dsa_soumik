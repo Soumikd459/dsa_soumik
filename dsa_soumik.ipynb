{
 "cells": [
  {
   "cell_type": "markdown",
   "id": "62c5321c",
   "metadata": {},
   "source": [
    "# 1) Reverse"
   ]
  },
  {
   "cell_type": "code",
   "execution_count": 11,
   "id": "a131e24a",
   "metadata": {},
   "outputs": [
    {
     "data": {
      "text/plain": [
       "'kimuos'"
      ]
     },
     "execution_count": 11,
     "metadata": {},
     "output_type": "execute_result"
    }
   ],
   "source": [
    "def reverse (str):\n",
    "    l = ''\n",
    "    for i in range(len(str)-1,-1,-1):\n",
    "        l+=str[i]\n",
    "    return (l)\n",
    "reverse('soumik')    \n",
    "    "
   ]
  },
  {
   "cell_type": "markdown",
   "id": "b57a2378",
   "metadata": {},
   "source": [
    "# 2) Palindrome"
   ]
  },
  {
   "cell_type": "code",
   "execution_count": 1,
   "id": "e008e5f4",
   "metadata": {},
   "outputs": [
    {
     "data": {
      "text/plain": [
       "'palindrome'"
      ]
     },
     "execution_count": 1,
     "metadata": {},
     "output_type": "execute_result"
    }
   ],
   "source": [
    "def palindrome(str):\n",
    "    l = ''\n",
    "    for i in range(len(str)-1,-1,-1):\n",
    "        l +=str[i]\n",
    "    if str ==l:\n",
    "        return('palindrome')\n",
    "    else:\n",
    "        return('not palindrome')\n",
    "palindrome('madam')"
   ]
  },
  {
   "cell_type": "code",
   "execution_count": 13,
   "id": "85490536",
   "metadata": {},
   "outputs": [
    {
     "data": {
      "text/plain": [
       "{2: 2, 3: 2, 4: 1, 5: 2, 6: 3, 78: 1, 9: 1, 7: 1}"
      ]
     },
     "execution_count": 13,
     "metadata": {},
     "output_type": "execute_result"
    }
   ],
   "source": [
    "\n",
    "\n",
    "def occurence (num):\n",
    "    d ={}\n",
    "    for i in (num):\n",
    "        if i in d:\n",
    "            d[i] +=1\n",
    "        else:\n",
    "            d[i]=1\n",
    "    return d\n",
    "occurence([2,3,2,3,4,5,6,5,6,78,9,7,6])\n",
    "        "
   ]
  },
  {
   "cell_type": "markdown",
   "id": "eed69527",
   "metadata": {},
   "source": [
    "# 3) Find largest"
   ]
  },
  {
   "cell_type": "code",
   "execution_count": 2,
   "id": "97025d27",
   "metadata": {},
   "outputs": [
    {
     "data": {
      "text/plain": [
       "98"
      ]
     },
     "execution_count": 2,
     "metadata": {},
     "output_type": "execute_result"
    }
   ],
   "source": [
    "def largest(num):\n",
    "    lar = float('-inf')\n",
    "    for i in range(len(num)):\n",
    "        if num[i] > lar:\n",
    "            lar = num[i]\n",
    "    return lar\n",
    "largest ([2,3,4,5,45,65,1,56,78,98])"
   ]
  },
  {
   "cell_type": "code",
   "execution_count": 3,
   "id": "0989acb1",
   "metadata": {},
   "outputs": [
    {
     "data": {
      "text/plain": [
       "98"
      ]
     },
     "execution_count": 3,
     "metadata": {},
     "output_type": "execute_result"
    }
   ],
   "source": [
    "def largest(num):\n",
    "    lar = float('-inf')\n",
    "    for i in num:\n",
    "        if i > lar:\n",
    "            lar = i\n",
    "    return lar\n",
    "largest ([2,3,4,5,45,65,1,56,78,98])"
   ]
  },
  {
   "cell_type": "markdown",
   "id": "da0b21fd",
   "metadata": {},
   "source": [
    "# 4) Occurence"
   ]
  },
  {
   "cell_type": "code",
   "execution_count": 4,
   "id": "9821aa93",
   "metadata": {},
   "outputs": [
    {
     "data": {
      "text/plain": [
       "{1: 1, 4: 1, 5: 1, 6: 1, 3: 3, 7: 1, 8: 3, 9: 3, 0: 2}"
      ]
     },
     "execution_count": 4,
     "metadata": {},
     "output_type": "execute_result"
    }
   ],
   "source": [
    "def occurence(num):\n",
    "    d={}\n",
    "    for i in range(len(num)):\n",
    "        if num[i] in d:\n",
    "            d[num[i]] +=1\n",
    "        else:\n",
    "            d[num[i]] =1\n",
    "    return d\n",
    "occurence([1,4,5,6,3,3,3,7,8,9,0,9,8,9,0,8])\n",
    "        "
   ]
  },
  {
   "cell_type": "markdown",
   "id": "9ff085d0",
   "metadata": {},
   "source": [
    "# 6) Duplicate"
   ]
  },
  {
   "cell_type": "code",
   "execution_count": 14,
   "id": "67e12cc9",
   "metadata": {},
   "outputs": [
    {
     "data": {
      "text/plain": [
       "[2, 3, 5, 3, 6, 7, 6, 8, 9]"
      ]
     },
     "execution_count": 14,
     "metadata": {},
     "output_type": "execute_result"
    }
   ],
   "source": [
    "def duplicate(num):\n",
    "    l = []\n",
    "    for i in range(len(num)):\n",
    "        if i not in l:\n",
    "            l.append(num[i])\n",
    "    return l\n",
    "duplicate ([2,3,2,4,5,5,3,6,7,6,8,9])"
   ]
  },
  {
   "cell_type": "markdown",
   "id": "fa0a470f",
   "metadata": {},
   "source": [
    "# 4) Anagram"
   ]
  },
  {
   "cell_type": "code",
   "execution_count": 10,
   "id": "2f8e3363",
   "metadata": {},
   "outputs": [
    {
     "data": {
      "text/plain": [
       "'try again'"
      ]
     },
     "execution_count": 10,
     "metadata": {},
     "output_type": "execute_result"
    }
   ],
   "source": [
    "def anagram(str1,str2):\n",
    "    if len(str1) != len(str2):\n",
    "        return ('not anagram')\n",
    "    elif sorted (str1.lower()) == sorted(str2.lower()):\n",
    "        return ('anagram')\n",
    "    else:\n",
    "        return('try again')\n",
    "anagram ('listen','lsieny')\n",
    "    "
   ]
  },
  {
   "cell_type": "markdown",
   "id": "2d6db67d",
   "metadata": {},
   "source": [
    "# 5) Factorial"
   ]
  },
  {
   "cell_type": "code",
   "execution_count": 15,
   "id": "491d3731",
   "metadata": {},
   "outputs": [
    {
     "data": {
      "text/plain": [
       "'try ageain'"
      ]
     },
     "execution_count": 15,
     "metadata": {},
     "output_type": "execute_result"
    }
   ],
   "source": [
    "def factorial(n):\n",
    "    if type(n) != int or n<0 :\n",
    "        return ('try ageain')\n",
    "    elif n==0 or n==1 :\n",
    "        return n\n",
    "    else:\n",
    "        fact = n * factorial (n-1)\n",
    "    return (fact)\n",
    "factorial(8.9)\n",
    "factorial(4)\n",
    "factorial(-9)"
   ]
  },
  {
   "cell_type": "code",
   "execution_count": 15,
   "id": "7c7b5e35",
   "metadata": {},
   "outputs": [
    {
     "data": {
      "text/plain": [
       "720"
      ]
     },
     "execution_count": 15,
     "metadata": {},
     "output_type": "execute_result"
    }
   ],
   "source": [
    "def factorial(n):\n",
    "    if n==1:\n",
    "        return n\n",
    "    else:\n",
    "        fact = n *  factorial(n-1)\n",
    "    return (fact)\n",
    "factorial (6)"
   ]
  },
  {
   "cell_type": "code",
   "execution_count": 31,
   "id": "e8641983",
   "metadata": {},
   "outputs": [
    {
     "data": {
      "text/plain": [
       "'try ageain'"
      ]
     },
     "execution_count": 31,
     "metadata": {},
     "output_type": "execute_result"
    }
   ],
   "source": []
  },
  {
   "cell_type": "markdown",
   "id": "b4be0d4f",
   "metadata": {},
   "source": [
    "# 6) Rverse the order of words in a given sentence."
   ]
  },
  {
   "cell_type": "code",
   "execution_count": 16,
   "id": "ba436ccd",
   "metadata": {},
   "outputs": [
    {
     "data": {
      "text/plain": [
       "'Developer Python excellent an is soumik'"
      ]
     },
     "execution_count": 16,
     "metadata": {},
     "output_type": "execute_result"
    }
   ],
   "source": [
    "def reverse_sentence(sentence):\n",
    "    words = sentence.split()\n",
    "    reversed_words = words[::-1]\n",
    "    reversed_sentence =' '.join(reversed_words)\n",
    "    return reversed_sentence\n",
    "reverse_sentence('soumik is an excellent Python Developer')\n",
    "\n",
    "\n",
    "     "
   ]
  },
  {
   "cell_type": "markdown",
   "id": "8ea4520c",
   "metadata": {},
   "source": [
    "# 7) Remove vowel"
   ]
  },
  {
   "cell_type": "code",
   "execution_count": 17,
   "id": "f1131a7e",
   "metadata": {},
   "outputs": [
    {
     "name": "stdout",
     "output_type": "stream",
     "text": [
      "hsjyt\n"
     ]
    }
   ],
   "source": [
    "def remove_vowel(string):\n",
    "    vowels = {'a', 'e', 'i', 'o', 'u'}\n",
    "    result = ''\n",
    "    for char in string:\n",
    "        if char.lower() not in vowels:\n",
    "            result += char\n",
    "    return result\n",
    "\n",
    "# Example usage\n",
    "print(remove_vowel('ahsjeiyt')) \n"
   ]
  },
  {
   "cell_type": "markdown",
   "id": "acfcd52a",
   "metadata": {},
   "source": [
    "# Reverse sentence"
   ]
  },
  {
   "cell_type": "code",
   "execution_count": 1,
   "id": "c7862c43",
   "metadata": {},
   "outputs": [
    {
     "data": {
      "text/plain": [
       "'Developer Python fabulous a is Soumik'"
      ]
     },
     "execution_count": 1,
     "metadata": {},
     "output_type": "execute_result"
    }
   ],
   "source": [
    "def reverse_sentence(sentence):\n",
    "    words = sentence.split()\n",
    "    reversed_words = words[::-1]\n",
    "    reversed_sentence = ' '.join(reversed_words)\n",
    "    return reversed_sentence\n",
    "reverse_sentence('Soumik is a fabulous Python Developer')"
   ]
  },
  {
   "cell_type": "markdown",
   "id": "aedaf3ae",
   "metadata": {},
   "source": [
    "# 11) Common list"
   ]
  },
  {
   "cell_type": "code",
   "execution_count": 9,
   "id": "dc506a56",
   "metadata": {},
   "outputs": [
    {
     "data": {
      "text/plain": [
       "[1, 3, 5, 7]"
      ]
     },
     "execution_count": 9,
     "metadata": {},
     "output_type": "execute_result"
    }
   ],
   "source": [
    "def common_list(list1,list2):\n",
    "    common = []\n",
    "    for i in list1:\n",
    "        if i in list2 and i not in common:\n",
    "            common.append(i)\n",
    "    return (common)\n",
    "list1 = [1,3,4,5,7]\n",
    "list2 = [3,1,2,6,5,7]\n",
    "common_list(list1,list2)"
   ]
  },
  {
   "cell_type": "markdown",
   "id": "d0f6e117",
   "metadata": {},
   "source": [
    "# 12) Anagram"
   ]
  },
  {
   "cell_type": "code",
   "execution_count": 7,
   "id": "26d3e65e",
   "metadata": {},
   "outputs": [
    {
     "data": {
      "text/plain": [
       "'anagram'"
      ]
     },
     "execution_count": 7,
     "metadata": {},
     "output_type": "execute_result"
    }
   ],
   "source": [
    "def anagram(str1,str2):\n",
    "    if len(str1) != len(str2) :\n",
    "        return ('not anagram')\n",
    "    else:\n",
    "        sorted(str1.lower()) == sorted(str2.lower())\n",
    "        return ('anagram')\n",
    "    \n",
    "str1 = 'listEn'    \n",
    "str2 = 'siLten'\n",
    "anagram (str1,str2)\n",
    "    "
   ]
  },
  {
   "cell_type": "markdown",
   "id": "a28fbab9",
   "metadata": {},
   "source": [
    "# 14) Fibonacci sequence"
   ]
  },
  {
   "cell_type": "code",
   "execution_count": 3,
   "id": "2c0bda63",
   "metadata": {},
   "outputs": [
    {
     "data": {
      "text/plain": [
       "[0, 1, 1, 2, 3, 5, 8, 13, 21, 34]"
      ]
     },
     "execution_count": 3,
     "metadata": {},
     "output_type": "execute_result"
    }
   ],
   "source": [
    "def fibo_series(n):\n",
    "    series =[0,1]\n",
    "    for i in range (2,n):\n",
    "        next_term = series[-1] + series [-2]\n",
    "        series.append(next_term)\n",
    "    return series\n",
    "fibo_series(10)\n",
    "    "
   ]
  },
  {
   "cell_type": "code",
   "execution_count": null,
   "id": "fdaa8f91",
   "metadata": {},
   "outputs": [],
   "source": []
  },
  {
   "cell_type": "markdown",
   "id": "21ff6a21",
   "metadata": {},
   "source": [
    "# 17) Find the intersection of two lists"
   ]
  },
  {
   "cell_type": "code",
   "execution_count": 15,
   "id": "95e18df2",
   "metadata": {},
   "outputs": [
    {
     "data": {
      "text/plain": [
       "[3, 4, 5, 7]"
      ]
     },
     "execution_count": 15,
     "metadata": {},
     "output_type": "execute_result"
    }
   ],
   "source": [
    "def common (nums1,nums2):\n",
    "    common_list = []\n",
    "    for i in (nums1):\n",
    "        if i in nums2 and i not in common_list:\n",
    "            common_list.append(i)\n",
    "    return common_list\n",
    "\n",
    "list1 = [2,3,4,5,6,0,7]\n",
    "list2 = [9,7,8,5,4,3,3]\n",
    "common (list1, list2)        \n",
    "        "
   ]
  },
  {
   "cell_type": "code",
   "execution_count": null,
   "id": "f690c295",
   "metadata": {},
   "outputs": [],
   "source": []
  },
  {
   "cell_type": "code",
   "execution_count": null,
   "id": "4442b6dc",
   "metadata": {},
   "outputs": [],
   "source": []
  },
  {
   "cell_type": "code",
   "execution_count": 43,
   "id": "dc406a3f",
   "metadata": {},
   "outputs": [
    {
     "data": {
      "text/plain": [
       "[2, 3, 4, 5]"
      ]
     },
     "execution_count": 43,
     "metadata": {},
     "output_type": "execute_result"
    }
   ],
   "source": [
    "\n",
    "\n",
    "def common_list(num1,num2):\n",
    "    common = []\n",
    "    for i in num1:\n",
    "        if i in num2 and i not in common:\n",
    "            common.append(i)\n",
    "            \n",
    "            '''common=common.append(i)   \n",
    "The append() method for lists in Python modifies the list in place and returns None. \n",
    "Therefore, when you try to assign common.append(i) to common, you're essentially setting common to None.'''\n",
    "    return common\n",
    "\n",
    "num1 = [2,3,4,5,6]\n",
    "num2 = [5,4,3,2,1]\n",
    "\n",
    "common_list(num1,num2)\n"
   ]
  },
  {
   "cell_type": "markdown",
   "id": "d5abf44a",
   "metadata": {},
   "source": [
    "# To check if a given list is sorted in non-decreasing order."
   ]
  },
  {
   "cell_type": "code",
   "execution_count": 55,
   "id": "626f0745",
   "metadata": {},
   "outputs": [
    {
     "data": {
      "text/plain": [
       "False"
      ]
     },
     "execution_count": 55,
     "metadata": {},
     "output_type": "execute_result"
    }
   ],
   "source": [
    "def is_sorted(num):\n",
    "    for i in range(len(num)-1):\n",
    "        if num[i] > num[i+1]:\n",
    "            return False\n",
    "        else:\n",
    "            True\n",
    "is_sorted([2,3,4,3,2,3,4,5,6])       \n",
    "        \n",
    "            "
   ]
  },
  {
   "cell_type": "markdown",
   "id": "0590ecaf",
   "metadata": {},
   "source": [
    "# To know the size/ storage"
   ]
  },
  {
   "cell_type": "code",
   "execution_count": 9,
   "id": "578daf52",
   "metadata": {},
   "outputs": [
    {
     "name": "stdout",
     "output_type": "stream",
     "text": [
      "56\n"
     ]
    }
   ],
   "source": [
    "import sys\n",
    "l =[]\n",
    "print(sys.getsizeof(l))"
   ]
  },
  {
   "cell_type": "code",
   "execution_count": 8,
   "id": "64dccf7e",
   "metadata": {},
   "outputs": [
    {
     "name": "stdout",
     "output_type": "stream",
     "text": [
      "40\n"
     ]
    }
   ],
   "source": [
    "\n",
    "t=()\n",
    "print(sys.getsizeof(t))"
   ]
  },
  {
   "cell_type": "code",
   "execution_count": null,
   "id": "c88c4a61",
   "metadata": {},
   "outputs": [],
   "source": []
  },
  {
   "cell_type": "code",
   "execution_count": null,
   "id": "f6a6f156",
   "metadata": {},
   "outputs": [],
   "source": []
  },
  {
   "cell_type": "code",
   "execution_count": null,
   "id": "456abcf6",
   "metadata": {},
   "outputs": [],
   "source": []
  },
  {
   "cell_type": "code",
   "execution_count": null,
   "id": "193bf739",
   "metadata": {},
   "outputs": [],
   "source": []
  },
  {
   "cell_type": "code",
   "execution_count": null,
   "id": "a655dee4",
   "metadata": {},
   "outputs": [],
   "source": []
  },
  {
   "cell_type": "code",
   "execution_count": null,
   "id": "3754c1a0",
   "metadata": {},
   "outputs": [],
   "source": []
  },
  {
   "cell_type": "code",
   "execution_count": null,
   "id": "520f8298",
   "metadata": {},
   "outputs": [],
   "source": []
  },
  {
   "cell_type": "code",
   "execution_count": null,
   "id": "a7eb125e",
   "metadata": {},
   "outputs": [],
   "source": []
  },
  {
   "cell_type": "code",
   "execution_count": null,
   "id": "652edba5",
   "metadata": {},
   "outputs": [],
   "source": []
  },
  {
   "cell_type": "code",
   "execution_count": null,
   "id": "f0192fe2",
   "metadata": {},
   "outputs": [],
   "source": []
  },
  {
   "cell_type": "code",
   "execution_count": null,
   "id": "69aa8781",
   "metadata": {},
   "outputs": [],
   "source": []
  },
  {
   "cell_type": "code",
   "execution_count": null,
   "id": "a3a47340",
   "metadata": {},
   "outputs": [],
   "source": []
  },
  {
   "cell_type": "code",
   "execution_count": null,
   "id": "5dcf840a",
   "metadata": {},
   "outputs": [],
   "source": []
  },
  {
   "cell_type": "code",
   "execution_count": null,
   "id": "f1cd7d28",
   "metadata": {},
   "outputs": [],
   "source": []
  },
  {
   "cell_type": "code",
   "execution_count": null,
   "id": "a2345eb8",
   "metadata": {},
   "outputs": [],
   "source": []
  },
  {
   "cell_type": "code",
   "execution_count": null,
   "id": "8f47f583",
   "metadata": {},
   "outputs": [],
   "source": []
  },
  {
   "cell_type": "code",
   "execution_count": null,
   "id": "c3fa8471",
   "metadata": {},
   "outputs": [],
   "source": []
  },
  {
   "cell_type": "code",
   "execution_count": null,
   "id": "6a47fdde",
   "metadata": {},
   "outputs": [],
   "source": []
  },
  {
   "cell_type": "code",
   "execution_count": null,
   "id": "997be04d",
   "metadata": {},
   "outputs": [],
   "source": []
  },
  {
   "cell_type": "code",
   "execution_count": null,
   "id": "650f8f01",
   "metadata": {},
   "outputs": [],
   "source": []
  },
  {
   "cell_type": "code",
   "execution_count": null,
   "id": "993407e0",
   "metadata": {},
   "outputs": [],
   "source": []
  },
  {
   "cell_type": "code",
   "execution_count": null,
   "id": "7a914f52",
   "metadata": {},
   "outputs": [],
   "source": []
  },
  {
   "cell_type": "code",
   "execution_count": null,
   "id": "42bbf74a",
   "metadata": {},
   "outputs": [],
   "source": []
  },
  {
   "cell_type": "code",
   "execution_count": null,
   "id": "ed6e7201",
   "metadata": {},
   "outputs": [],
   "source": []
  },
  {
   "cell_type": "code",
   "execution_count": null,
   "id": "7db8ff65",
   "metadata": {},
   "outputs": [],
   "source": []
  },
  {
   "cell_type": "code",
   "execution_count": null,
   "id": "64b84e2c",
   "metadata": {},
   "outputs": [],
   "source": []
  },
  {
   "cell_type": "code",
   "execution_count": null,
   "id": "ed6283c1",
   "metadata": {},
   "outputs": [],
   "source": []
  },
  {
   "cell_type": "code",
   "execution_count": null,
   "id": "43fc187a",
   "metadata": {},
   "outputs": [],
   "source": []
  },
  {
   "cell_type": "code",
   "execution_count": null,
   "id": "2bafcbbd",
   "metadata": {},
   "outputs": [],
   "source": []
  },
  {
   "cell_type": "code",
   "execution_count": null,
   "id": "0143f0e6",
   "metadata": {},
   "outputs": [],
   "source": []
  },
  {
   "cell_type": "code",
   "execution_count": null,
   "id": "52fe59cc",
   "metadata": {},
   "outputs": [],
   "source": []
  },
  {
   "cell_type": "code",
   "execution_count": null,
   "id": "ec501ac0",
   "metadata": {},
   "outputs": [],
   "source": []
  },
  {
   "cell_type": "code",
   "execution_count": null,
   "id": "1188d9c5",
   "metadata": {},
   "outputs": [],
   "source": []
  },
  {
   "cell_type": "code",
   "execution_count": null,
   "id": "a09d2370",
   "metadata": {},
   "outputs": [],
   "source": []
  },
  {
   "cell_type": "code",
   "execution_count": null,
   "id": "c531ef03",
   "metadata": {},
   "outputs": [],
   "source": []
  },
  {
   "cell_type": "code",
   "execution_count": null,
   "id": "7e68690c",
   "metadata": {},
   "outputs": [],
   "source": []
  },
  {
   "cell_type": "code",
   "execution_count": null,
   "id": "ec5df2ea",
   "metadata": {},
   "outputs": [],
   "source": []
  },
  {
   "cell_type": "code",
   "execution_count": null,
   "id": "21f478ac",
   "metadata": {},
   "outputs": [],
   "source": []
  },
  {
   "cell_type": "code",
   "execution_count": null,
   "id": "1d7e8ed1",
   "metadata": {},
   "outputs": [],
   "source": []
  },
  {
   "cell_type": "code",
   "execution_count": null,
   "id": "47a813dd",
   "metadata": {},
   "outputs": [],
   "source": []
  },
  {
   "cell_type": "code",
   "execution_count": null,
   "id": "c6b6b174",
   "metadata": {},
   "outputs": [],
   "source": []
  },
  {
   "cell_type": "code",
   "execution_count": null,
   "id": "3d03172a",
   "metadata": {},
   "outputs": [],
   "source": []
  },
  {
   "cell_type": "code",
   "execution_count": null,
   "id": "ff6e189f",
   "metadata": {},
   "outputs": [],
   "source": []
  },
  {
   "cell_type": "code",
   "execution_count": null,
   "id": "4c865b6d",
   "metadata": {},
   "outputs": [],
   "source": []
  },
  {
   "cell_type": "code",
   "execution_count": null,
   "id": "ff8c8fa3",
   "metadata": {},
   "outputs": [],
   "source": []
  },
  {
   "cell_type": "code",
   "execution_count": null,
   "id": "650ab000",
   "metadata": {},
   "outputs": [],
   "source": []
  },
  {
   "cell_type": "code",
   "execution_count": null,
   "id": "c540fb79",
   "metadata": {},
   "outputs": [],
   "source": []
  },
  {
   "cell_type": "code",
   "execution_count": null,
   "id": "fcd43f23",
   "metadata": {},
   "outputs": [],
   "source": []
  },
  {
   "cell_type": "code",
   "execution_count": null,
   "id": "cd429be3",
   "metadata": {},
   "outputs": [],
   "source": []
  },
  {
   "cell_type": "code",
   "execution_count": null,
   "id": "b059e3e2",
   "metadata": {},
   "outputs": [],
   "source": []
  },
  {
   "cell_type": "code",
   "execution_count": null,
   "id": "f51bb819",
   "metadata": {},
   "outputs": [],
   "source": []
  },
  {
   "cell_type": "code",
   "execution_count": null,
   "id": "645da126",
   "metadata": {},
   "outputs": [],
   "source": []
  },
  {
   "cell_type": "code",
   "execution_count": null,
   "id": "dc0f0d45",
   "metadata": {},
   "outputs": [],
   "source": []
  },
  {
   "cell_type": "code",
   "execution_count": null,
   "id": "cfbc343a",
   "metadata": {},
   "outputs": [],
   "source": []
  },
  {
   "cell_type": "code",
   "execution_count": null,
   "id": "c2d6dc18",
   "metadata": {},
   "outputs": [],
   "source": []
  },
  {
   "cell_type": "code",
   "execution_count": null,
   "id": "fd680224",
   "metadata": {},
   "outputs": [],
   "source": []
  },
  {
   "cell_type": "code",
   "execution_count": null,
   "id": "cedb47cc",
   "metadata": {},
   "outputs": [],
   "source": []
  },
  {
   "cell_type": "code",
   "execution_count": null,
   "id": "34d1af61",
   "metadata": {},
   "outputs": [],
   "source": []
  },
  {
   "cell_type": "code",
   "execution_count": null,
   "id": "7494ce3d",
   "metadata": {},
   "outputs": [],
   "source": []
  },
  {
   "cell_type": "code",
   "execution_count": null,
   "id": "ac25bbed",
   "metadata": {},
   "outputs": [],
   "source": []
  },
  {
   "cell_type": "code",
   "execution_count": null,
   "id": "55b60d19",
   "metadata": {},
   "outputs": [],
   "source": []
  },
  {
   "cell_type": "code",
   "execution_count": null,
   "id": "55e296e4",
   "metadata": {},
   "outputs": [],
   "source": []
  },
  {
   "cell_type": "code",
   "execution_count": null,
   "id": "5a423fb5",
   "metadata": {},
   "outputs": [],
   "source": []
  },
  {
   "cell_type": "code",
   "execution_count": null,
   "id": "06bb2be1",
   "metadata": {},
   "outputs": [],
   "source": []
  },
  {
   "cell_type": "code",
   "execution_count": null,
   "id": "270612d6",
   "metadata": {},
   "outputs": [],
   "source": []
  },
  {
   "cell_type": "code",
   "execution_count": null,
   "id": "b8294c67",
   "metadata": {},
   "outputs": [],
   "source": []
  },
  {
   "cell_type": "code",
   "execution_count": null,
   "id": "e535628d",
   "metadata": {},
   "outputs": [],
   "source": []
  },
  {
   "cell_type": "code",
   "execution_count": null,
   "id": "45efaeb2",
   "metadata": {},
   "outputs": [],
   "source": []
  },
  {
   "cell_type": "code",
   "execution_count": null,
   "id": "9c423988",
   "metadata": {},
   "outputs": [],
   "source": []
  },
  {
   "cell_type": "code",
   "execution_count": null,
   "id": "147f8a8d",
   "metadata": {},
   "outputs": [],
   "source": []
  },
  {
   "cell_type": "code",
   "execution_count": null,
   "id": "60fc3953",
   "metadata": {},
   "outputs": [],
   "source": []
  },
  {
   "cell_type": "code",
   "execution_count": null,
   "id": "fe65573c",
   "metadata": {},
   "outputs": [],
   "source": []
  },
  {
   "cell_type": "code",
   "execution_count": 25,
   "id": "b15335c6",
   "metadata": {},
   "outputs": [
    {
     "name": "stdout",
     "output_type": "stream",
     "text": [
      "Empty DataFrame\n",
      "Columns: [Title, Price, Discount]\n",
      "Index: []\n"
     ]
    }
   ],
   "source": [
    "import pandas as pd\n",
    "import requests\n",
    "from bs4 import BeautifulSoup\n",
    "\n",
    "# Send a GET request to the Amazon Gold Box Deals page\n",
    "url = \"https://www.amazon.com/gp/goldbox?ref_=nav_cs_gb&deals-widget=%257B%2522version%2522%253A1%252C%2522viewIndex%2522%253A0%252C%2522presetId%2522%253A%2522F954F5F1FE84B4B875042F730CEE0354%2522%252C%2522departments%2522%253A%255B%2522172282%2522%255D%252C%2522sorting%2522%253A%2522FEATURED%2522%257D\"\n",
    "response = requests.get(url)\n",
    "\n",
    "# Parse the HTML content\n",
    "soup = BeautifulSoup(response.content, \"html.parser\")\n",
    "\n",
    "# Find all deal items\n",
    "deal_items = soup.find_all(\"div\", class_=\"a-section a-spacing-medium\")\n",
    "\n",
    "# Create lists to store item details\n",
    "titles = []\n",
    "prices = []\n",
    "discounts = []\n",
    "\n",
    "# Loop through the deal items and extract title, price, and discount\n",
    "for item in deal_items:\n",
    "    title = item.find(\"span\", class_=\"a-text-bold\").get_text().strip()\n",
    "    price = item.find(\"span\", class_=\"a-offscreen\").get_text().strip()\n",
    "    discount_tag = item.find(\"span\", class_=\"a-badge-supplementary-text\")\n",
    "    discount = discount_tag.get_text().strip() if discount_tag else \"0%\"\n",
    "    \n",
    "    # Convert discount percentage to numeric value\n",
    "    discount_value = int(discount.strip('%').replace('+', '').replace('-', ''))\n",
    "\n",
    "    # Check if discount is 20% or more\n",
    "    if discount_value >= 20:\n",
    "        titles.append(title)\n",
    "        prices.append(price)\n",
    "        discounts.append(discount)\n",
    "\n",
    "# Create a DataFrame from the extracted data\n",
    "data = {\n",
    "    'Title': titles,\n",
    "    'Price': prices,\n",
    "    'Discount': discounts\n",
    "}\n",
    "df = pd.DataFrame(data)\n",
    "\n",
    "# Display the DataFrame\n",
    "print(df)\n"
   ]
  },
  {
   "cell_type": "code",
   "execution_count": null,
   "id": "5eb487c5",
   "metadata": {},
   "outputs": [],
   "source": []
  },
  {
   "cell_type": "code",
   "execution_count": null,
   "id": "b47c40eb",
   "metadata": {},
   "outputs": [],
   "source": []
  },
  {
   "cell_type": "code",
   "execution_count": null,
   "id": "0a0b8ed3",
   "metadata": {},
   "outputs": [],
   "source": []
  },
  {
   "cell_type": "code",
   "execution_count": null,
   "id": "3edc8f2c",
   "metadata": {},
   "outputs": [],
   "source": []
  },
  {
   "cell_type": "code",
   "execution_count": null,
   "id": "0eeb3dda",
   "metadata": {},
   "outputs": [],
   "source": []
  },
  {
   "cell_type": "code",
   "execution_count": null,
   "id": "fe3e4701",
   "metadata": {},
   "outputs": [],
   "source": []
  },
  {
   "cell_type": "code",
   "execution_count": null,
   "id": "21ac0cef",
   "metadata": {},
   "outputs": [],
   "source": []
  },
  {
   "cell_type": "code",
   "execution_count": null,
   "id": "eba85812",
   "metadata": {},
   "outputs": [],
   "source": []
  },
  {
   "cell_type": "code",
   "execution_count": null,
   "id": "ff48f891",
   "metadata": {},
   "outputs": [],
   "source": []
  },
  {
   "cell_type": "code",
   "execution_count": null,
   "id": "5de8b90a",
   "metadata": {},
   "outputs": [],
   "source": []
  },
  {
   "cell_type": "code",
   "execution_count": null,
   "id": "1db0d034",
   "metadata": {},
   "outputs": [],
   "source": []
  },
  {
   "cell_type": "code",
   "execution_count": null,
   "id": "0fdc2eab",
   "metadata": {},
   "outputs": [],
   "source": []
  },
  {
   "cell_type": "code",
   "execution_count": null,
   "id": "fe103cb3",
   "metadata": {},
   "outputs": [],
   "source": []
  },
  {
   "cell_type": "code",
   "execution_count": null,
   "id": "1f3fd1cd",
   "metadata": {},
   "outputs": [],
   "source": []
  },
  {
   "cell_type": "code",
   "execution_count": null,
   "id": "7cb55b10",
   "metadata": {},
   "outputs": [],
   "source": []
  },
  {
   "cell_type": "code",
   "execution_count": null,
   "id": "8ddb1f05",
   "metadata": {},
   "outputs": [],
   "source": []
  },
  {
   "cell_type": "code",
   "execution_count": null,
   "id": "1048586a",
   "metadata": {},
   "outputs": [],
   "source": []
  },
  {
   "cell_type": "code",
   "execution_count": null,
   "id": "210d1539",
   "metadata": {},
   "outputs": [],
   "source": []
  },
  {
   "cell_type": "code",
   "execution_count": null,
   "id": "c9452205",
   "metadata": {},
   "outputs": [],
   "source": []
  },
  {
   "cell_type": "code",
   "execution_count": null,
   "id": "4918eb5f",
   "metadata": {},
   "outputs": [],
   "source": []
  },
  {
   "cell_type": "code",
   "execution_count": null,
   "id": "c6cf1e6c",
   "metadata": {},
   "outputs": [],
   "source": []
  },
  {
   "cell_type": "code",
   "execution_count": null,
   "id": "7ed77015",
   "metadata": {},
   "outputs": [],
   "source": []
  },
  {
   "cell_type": "code",
   "execution_count": null,
   "id": "21191459",
   "metadata": {},
   "outputs": [],
   "source": []
  },
  {
   "cell_type": "code",
   "execution_count": null,
   "id": "be796359",
   "metadata": {},
   "outputs": [],
   "source": []
  },
  {
   "cell_type": "code",
   "execution_count": null,
   "id": "58fc62ca",
   "metadata": {},
   "outputs": [],
   "source": []
  },
  {
   "cell_type": "code",
   "execution_count": null,
   "id": "1636e973",
   "metadata": {},
   "outputs": [],
   "source": []
  },
  {
   "cell_type": "code",
   "execution_count": null,
   "id": "fc078274",
   "metadata": {},
   "outputs": [],
   "source": []
  },
  {
   "cell_type": "code",
   "execution_count": null,
   "id": "c4aec15b",
   "metadata": {},
   "outputs": [],
   "source": []
  },
  {
   "cell_type": "code",
   "execution_count": null,
   "id": "1089825a",
   "metadata": {},
   "outputs": [],
   "source": []
  },
  {
   "cell_type": "code",
   "execution_count": null,
   "id": "20ad56f3",
   "metadata": {},
   "outputs": [],
   "source": []
  },
  {
   "cell_type": "code",
   "execution_count": null,
   "id": "46d399c9",
   "metadata": {},
   "outputs": [],
   "source": []
  },
  {
   "cell_type": "code",
   "execution_count": null,
   "id": "dd328c70",
   "metadata": {},
   "outputs": [],
   "source": []
  },
  {
   "cell_type": "code",
   "execution_count": null,
   "id": "c4453a1b",
   "metadata": {},
   "outputs": [],
   "source": []
  },
  {
   "cell_type": "code",
   "execution_count": null,
   "id": "5c15594d",
   "metadata": {},
   "outputs": [],
   "source": []
  },
  {
   "cell_type": "code",
   "execution_count": null,
   "id": "88e544c0",
   "metadata": {},
   "outputs": [],
   "source": []
  },
  {
   "cell_type": "code",
   "execution_count": null,
   "id": "a756d5da",
   "metadata": {},
   "outputs": [],
   "source": []
  },
  {
   "cell_type": "code",
   "execution_count": null,
   "id": "6f64c016",
   "metadata": {},
   "outputs": [],
   "source": []
  },
  {
   "cell_type": "code",
   "execution_count": null,
   "id": "9246508b",
   "metadata": {},
   "outputs": [],
   "source": []
  },
  {
   "cell_type": "code",
   "execution_count": null,
   "id": "e8f85190",
   "metadata": {},
   "outputs": [],
   "source": []
  },
  {
   "cell_type": "code",
   "execution_count": null,
   "id": "e3469189",
   "metadata": {},
   "outputs": [],
   "source": []
  },
  {
   "cell_type": "code",
   "execution_count": null,
   "id": "b8f8b02d",
   "metadata": {},
   "outputs": [],
   "source": []
  },
  {
   "cell_type": "code",
   "execution_count": null,
   "id": "12215766",
   "metadata": {},
   "outputs": [],
   "source": []
  },
  {
   "cell_type": "code",
   "execution_count": null,
   "id": "0ef3e2ac",
   "metadata": {},
   "outputs": [],
   "source": []
  },
  {
   "cell_type": "code",
   "execution_count": null,
   "id": "a604b114",
   "metadata": {},
   "outputs": [],
   "source": []
  },
  {
   "cell_type": "code",
   "execution_count": null,
   "id": "dc552133",
   "metadata": {},
   "outputs": [],
   "source": []
  },
  {
   "cell_type": "code",
   "execution_count": null,
   "id": "45ad223e",
   "metadata": {},
   "outputs": [],
   "source": []
  },
  {
   "cell_type": "code",
   "execution_count": null,
   "id": "101c14af",
   "metadata": {},
   "outputs": [],
   "source": []
  },
  {
   "cell_type": "code",
   "execution_count": null,
   "id": "b1da5333",
   "metadata": {},
   "outputs": [],
   "source": []
  },
  {
   "cell_type": "code",
   "execution_count": null,
   "id": "9f6231b5",
   "metadata": {},
   "outputs": [],
   "source": []
  },
  {
   "cell_type": "code",
   "execution_count": null,
   "id": "1f1ef0c0",
   "metadata": {},
   "outputs": [],
   "source": []
  },
  {
   "cell_type": "code",
   "execution_count": null,
   "id": "87d2833d",
   "metadata": {},
   "outputs": [],
   "source": []
  },
  {
   "cell_type": "code",
   "execution_count": null,
   "id": "5c76f4cf",
   "metadata": {},
   "outputs": [],
   "source": []
  },
  {
   "cell_type": "code",
   "execution_count": null,
   "id": "54e290c3",
   "metadata": {},
   "outputs": [],
   "source": []
  },
  {
   "cell_type": "code",
   "execution_count": null,
   "id": "af7ec0a2",
   "metadata": {},
   "outputs": [],
   "source": []
  },
  {
   "cell_type": "code",
   "execution_count": null,
   "id": "70b3724c",
   "metadata": {},
   "outputs": [],
   "source": []
  },
  {
   "cell_type": "code",
   "execution_count": null,
   "id": "0be8804a",
   "metadata": {},
   "outputs": [],
   "source": []
  },
  {
   "cell_type": "code",
   "execution_count": null,
   "id": "6f1ad975",
   "metadata": {},
   "outputs": [],
   "source": []
  },
  {
   "cell_type": "code",
   "execution_count": null,
   "id": "decf1868",
   "metadata": {},
   "outputs": [],
   "source": []
  },
  {
   "cell_type": "code",
   "execution_count": null,
   "id": "a8d8fa25",
   "metadata": {},
   "outputs": [],
   "source": []
  },
  {
   "cell_type": "code",
   "execution_count": null,
   "id": "2c128dc7",
   "metadata": {},
   "outputs": [],
   "source": []
  },
  {
   "cell_type": "code",
   "execution_count": null,
   "id": "c39cfaf1",
   "metadata": {},
   "outputs": [],
   "source": []
  },
  {
   "cell_type": "code",
   "execution_count": null,
   "id": "aeeb23fb",
   "metadata": {},
   "outputs": [],
   "source": []
  }
 ],
 "metadata": {
  "kernelspec": {
   "display_name": "Python 3 (ipykernel)",
   "language": "python",
   "name": "python3"
  },
  "language_info": {
   "codemirror_mode": {
    "name": "ipython",
    "version": 3
   },
   "file_extension": ".py",
   "mimetype": "text/x-python",
   "name": "python",
   "nbconvert_exporter": "python",
   "pygments_lexer": "ipython3",
   "version": "3.11.5"
  }
 },
 "nbformat": 4,
 "nbformat_minor": 5
}
